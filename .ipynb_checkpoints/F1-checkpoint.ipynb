{
 "cells": [
  {
   "cell_type": "markdown",
   "id": "52cb9291-b8e5-45ae-adde-6fabbd3b6452",
   "metadata": {
    "jp-MarkdownHeadingCollapsed": true
   },
   "source": [
    "# Import, functions"
   ]
  },
  {
   "cell_type": "code",
   "execution_count": null,
   "id": "324f5bdd",
   "metadata": {},
   "outputs": [],
   "source": [
    "import requests\n",
    "import pandas as pd\n",
    "import time\n",
    "from datetime import datetime, timedelta\n",
    "from dotenv import load_dotenv\n",
    "import os\n",
    "import warnings\n",
    "warnings.filterwarnings(\"ignore\")"
   ]
  },
  {
   "cell_type": "code",
   "execution_count": null,
   "id": "0e6fca72",
   "metadata": {},
   "outputs": [],
   "source": [
    "load_dotenv()\n",
    "air_pollution_key = os.getenv(\"air_pollution_API_key\")"
   ]
  },
  {
   "cell_type": "code",
   "execution_count": null,
   "id": "66b6deeb",
   "metadata": {},
   "outputs": [],
   "source": [
    "# get my functions from .py file\n",
    "\n",
    "with open(\"my_functions.py\") as file:\n",
    "    exec(file.read())"
   ]
  },
  {
   "cell_type": "markdown",
   "id": "228fb097",
   "metadata": {
    "jp-MarkdownHeadingCollapsed": true
   },
   "source": [
    "# Creating Dataframes\n",
    "### F1 API"
   ]
  },
  {
   "cell_type": "code",
   "execution_count": null,
   "id": "f8cc10f2",
   "metadata": {
    "scrolled": true
   },
   "outputs": [],
   "source": [
    "# create dataframe with all races from the last 3 years\n",
    "races1 = pd.DataFrame(racedates(2021)).transpose()\n",
    "races2 = pd.DataFrame(racedates(2022)).transpose()\n",
    "races3 = pd.DataFrame(racedates(2023)).transpose()\n",
    "races4 = pd.DataFrame(racedates(2024)).transpose()\n",
    "\n",
    "all_races = pd.concat([races1, races2, races3, races4])\n",
    "all_races.rename(columns={0: \"location\", 1: \"lat\", 2: \"long\", \"index\": \"date\"}, inplace=True)\n",
    "all_races = all_races.reset_index()\n",
    "all_races.rename(columns={\"index\": \"date\"}, inplace=True)\n",
    "\n",
    "# create start and end date\n",
    "all_races[\"date\"] = pd.to_datetime(all_races[\"date\"])\n",
    "all_races[\"start\"] = all_races[\"date\"] + pd.Timedelta(days=-7)\n",
    "all_races[\"end\"] = all_races[\"date\"] + pd.Timedelta(days=7)\n",
    "\n",
    "# convert start and end to unix\n",
    "for i in range(len(all_races[\"start\"])):\n",
    "    all_races[\"start\"][i] = pd.Timestamp(all_races[\"start\"][i]).timestamp()\n",
    "for i in range(len(all_races[\"end\"])):\n",
    "    all_races[\"end\"][i] = pd.Timestamp(all_races[\"end\"][i]).timestamp()    "
   ]
  },
  {
   "cell_type": "code",
   "execution_count": null,
   "id": "9fac2bc3",
   "metadata": {},
   "outputs": [],
   "source": [
    "#all_races"
   ]
  },
  {
   "cell_type": "markdown",
   "id": "5b0f3214-5142-4570-a78e-12bdd4602261",
   "metadata": {
    "jp-MarkdownHeadingCollapsed": true
   },
   "source": [
    "### Comparison data of same circuit over 4 years\n",
    "selected circuits: monaco and monza"
   ]
  },
  {
   "cell_type": "code",
   "execution_count": null,
   "id": "d8d26fae",
   "metadata": {
    "scrolled": true
   },
   "outputs": [],
   "source": [
    "# getting all seasons of monaco\n",
    "\n",
    "monaco_2021 = single_pollution(4)\n",
    "monaco_2021 = monaco_2021.rename(columns={\"Monte-Carlo\": \"Monaco 2021\"})\n",
    "\n",
    "monaco_2022 = single_pollution(28)\n",
    "monaco_2022 = monaco_2022.rename(columns={\"Monte-Carlo\": \"Monaco 2022\"})\n",
    "\n",
    "monaco_2023 = single_pollution(49)\n",
    "monaco_2023 = monaco_2023.rename(columns={\"Monte-Carlo\": \"Monaco 2023\"})\n",
    "\n",
    "monaco_2024 = single_pollution(73)\n",
    "monaco_2024 = monaco_2024.rename(columns={\"Monte-Carlo\": \"Monaco 2024\"})\n",
    "\n",
    "monaco_comparison = pd.merge(monaco_2021, monaco_2022, on=\"hours\")\n",
    "monaco_comparison = pd.merge(monaco_comparison, monaco_2023, on=\"hours\")\n",
    "monaco_comparison = pd.merge(monaco_comparison, monaco_2024, on=\"hours\")"
   ]
  },
  {
   "cell_type": "code",
   "execution_count": null,
   "id": "6a821359-1182-4433-b46d-18760eeb47d0",
   "metadata": {},
   "outputs": [],
   "source": [
    "# getting all seasons of monza\n",
    "\n",
    "monza_2021 = single_pollution(13)\n",
    "monza_2022 = single_pollution(37)\n",
    "monza_2023 = single_pollution(57)\n",
    "monza_2024 = single_pollution(81)\n",
    "\n",
    "monza_2021 = monza_2021.rename(columns={\"Monza\": \"Monza 2021\"})\n",
    "monza_2022 = monza_2022.rename(columns={\"Monza\": \"Monza 2022\"})\n",
    "monza_2023 = monza_2023.rename(columns={\"Monza\": \"Monza 2023\"})\n",
    "monza_2024 = monza_2024.rename(columns={\"Monza\": \"Monza 2024\"})\n",
    "\n",
    "\n",
    "monza_comparison = pd.merge(monza_2021, monza_2022, on=\"hours\")\n",
    "monza_comparison = pd.merge(monza_comparison, monza_2023, on=\"hours\")\n",
    "monza_comparison = pd.merge(monza_comparison, monza_2024, on=\"hours\")"
   ]
  },
  {
   "cell_type": "markdown",
   "id": "3ca9e871",
   "metadata": {},
   "source": [
    "### Data for Imola year 2021"
   ]
  },
  {
   "cell_type": "code",
   "execution_count": null,
   "id": "c2c82d24",
   "metadata": {},
   "outputs": [],
   "source": [
    "# imola 2021\n",
    "\n",
    "lat = 44.3439\n",
    "long = 11.7167\n",
    "start = 1609455600\n",
    "end = 1640991599\n",
    "\n",
    "imola_2021 = get_whole_year(lat, long, start, end)"
   ]
  },
  {
   "cell_type": "markdown",
   "id": "81dcac79",
   "metadata": {},
   "source": [
    "# Save data to files"
   ]
  },
  {
   "cell_type": "code",
   "execution_count": null,
   "id": "571a808f",
   "metadata": {},
   "outputs": [],
   "source": [
    "# save data in files\n",
    "\n",
    "# race data\n",
    "all_races['date'] = all_races['date'].dt.tz_localize(None)\n",
    "all_races.to_excel(\"all_races.xlsx\")\n",
    "\n",
    "\n",
    "\n",
    "# get data of whole season, +/- 7d of race\n",
    "season_2021_test = get_season(0, 21)\n",
    "season_2021_test.to_excel(\"season_2021_test.xlsx\")\n",
    "season_2022_test = get_season(22, 43)\n",
    "season_2022_test.to_excel(\"season_2022_test.xlsx\")\n",
    "season_2023_test = get_season(45, 65)\n",
    "season_2023_test.to_excel(\"season_2023_test.xlsx\")\n",
    "season_2024_test = get_season(66, 90)\n",
    "season_2024_test.to_excel(\"season_2024_test.xlsx\")\n",
    "\n",
    "# get comparison data over 4 years\n",
    "monaco_comparison.to_excel(\"monaco_comparison.xlsx\")\n",
    "monza_comparison.to_excel(\"monza_comparison.xlsx\")\n",
    "\n",
    "# get whole year of imola 2021\n",
    "imola_2021.to_excel(\"imola_2021.xlsx\")"
   ]
  }
 ],
 "metadata": {
  "kernelspec": {
   "display_name": "Python 3 (ipykernel)",
   "language": "python",
   "name": "python3"
  },
  "language_info": {
   "codemirror_mode": {
    "name": "ipython",
    "version": 3
   },
   "file_extension": ".py",
   "mimetype": "text/x-python",
   "name": "python",
   "nbconvert_exporter": "python",
   "pygments_lexer": "ipython3",
   "version": "3.11.7"
  }
 },
 "nbformat": 4,
 "nbformat_minor": 5
}
